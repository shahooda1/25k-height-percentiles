{
  "metadata": {
    "kernelspec": {
      "name": "xpython",
      "display_name": "Python 3.13 (XPython)",
      "language": "python"
    },
    "language_info": {
      "file_extension": ".py",
      "mimetype": "text/x-python",
      "name": "python",
      "version": "3.13.1"
    }
  },
  "nbformat_minor": 5,
  "nbformat": 4,
  "cells": [
    {
      "id": "e0dfd4b9-8863-44ef-8b6a-0aa8d397cd4e",
      "cell_type": "code",
      "source": "import numpy as np\nfrom scipy import stats\n\n\ndata = np.loadtxt(\"SOCR-HeightWeight.csv\", delimiter = \",\", dtype = str)\n\nheights = []\nweights = []\n\nmyHeight = 72.4375\n\nfor i in range(len(data)):\n    if i != 0: #skips the header row\n\n        heightValue = float(data[i][1])\n        heights.append(heightValue)\n\n        weightValue = float(data[i][1])\n        weights.append(weightValue)\n\nheights.sort(reverse = True)\n\n\nfor j in range(len(heights)):\n    if myHeight > heights[j]:\n        position = j\n        break\n\npercentile = ((len(heights) - position) / len(heights)) * 100\n\nprint(f\"My height is at the {round(percentile)}th percentile.\")",
      "metadata": {
        "trusted": true
      },
      "outputs": [],
      "execution_count": null
    }
  ]
}