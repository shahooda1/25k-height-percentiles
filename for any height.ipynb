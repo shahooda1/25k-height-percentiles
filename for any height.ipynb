{
  "metadata": {
    "kernelspec": {
      "name": "xpython",
      "display_name": "Python 3.13 (XPython)",
      "language": "python"
    },
    "language_info": {
      "file_extension": ".py",
      "mimetype": "text/x-python",
      "name": "python",
      "version": "3.13.1"
    }
  },
  "nbformat_minor": 5,
  "nbformat": 4,
  "cells": [
    {
      "id": "066da5c9-c3a5-4155-9dec-511e93843f72",
      "cell_type": "code",
      "source": "import numpy as np\nfrom scipy import stats\n\n\nprint(\"hello\")\ndata = np.loadtxt(\"SOCR-HeightWeight.csv\", delimiter = \",\", dtype = str)\n\nheights = []\nweights = []\n\nheightInput = 0\n\nfor i in range(len(data)):\n    if i != 0: #skips the header row\n\n        heightValue = float(data[i][1])\n        heights.append(heightValue)\n\n        weightValue = float(data[i][1])\n        weights.append(weightValue)\n\nheights.sort(reverse = True)\n\n\nheightInput = input(\"Enter a height: \").strip()\n\n\nfor j in range(len(heights)):\n    if float(heightInput) > heights[j]:\n        position = j\n        break\n\npercentile = ((len(heights) - position) / len(heights)) * 100\n\nprint(f\"The selected height is at the {round(percentile)}th percentile.\")",
      "metadata": {
        "trusted": true
      },
      "outputs": [],
      "execution_count": null
    },
    {
      "id": "8f89e9f3-4568-407e-8b6d-b9cda6c7e423",
      "cell_type": "code",
      "source": "",
      "metadata": {
        "trusted": true
      },
      "outputs": [],
      "execution_count": null
    }
  ]
}